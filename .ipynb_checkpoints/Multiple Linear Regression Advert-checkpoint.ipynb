{
 "cells": [
  {
   "cell_type": "markdown",
   "id": "87a736bb",
   "metadata": {},
   "source": [
    "# Multiple Linear Regression Advertising efficiency"
   ]
  },
  {
   "cell_type": "code",
   "execution_count": 22,
   "id": "1fda8f4f",
   "metadata": {},
   "outputs": [],
   "source": [
    "# in this nortebook we will find which adverstsing temnque is better "
   ]
  },
  {
   "cell_type": "code",
   "execution_count": 23,
   "id": "90ec8e0a",
   "metadata": {},
   "outputs": [],
   "source": [
    "#libraries"
   ]
  },
  {
   "cell_type": "code",
   "execution_count": 85,
   "id": "8ce71b83",
   "metadata": {},
   "outputs": [],
   "source": [
    "import pandas as pd\n",
    "\n",
    "from sklearn.model_selection import train_test_split\n",
    "from pycaret.regression import*\n",
    "from sklearn.metrics import r2_score,mean_squared_error\n",
    "import matplotlib.pyplot as plt\n",
    "import pickle"
   ]
  },
  {
   "cell_type": "code",
   "execution_count": 25,
   "id": "88eefa43",
   "metadata": {},
   "outputs": [],
   "source": [
    "#load the data"
   ]
  },
  {
   "cell_type": "code",
   "execution_count": 26,
   "id": "0c59e240",
   "metadata": {},
   "outputs": [],
   "source": [
    "df=pd.read_csv(\"advertising.csv\")"
   ]
  },
  {
   "cell_type": "code",
   "execution_count": 27,
   "id": "2c59366d",
   "metadata": {},
   "outputs": [],
   "source": [
    "#see first 5 cels"
   ]
  },
  {
   "cell_type": "code",
   "execution_count": 28,
   "id": "fb48d293",
   "metadata": {},
   "outputs": [
    {
     "data": {
      "text/html": [
       "<div>\n",
       "<style scoped>\n",
       "    .dataframe tbody tr th:only-of-type {\n",
       "        vertical-align: middle;\n",
       "    }\n",
       "\n",
       "    .dataframe tbody tr th {\n",
       "        vertical-align: top;\n",
       "    }\n",
       "\n",
       "    .dataframe thead th {\n",
       "        text-align: right;\n",
       "    }\n",
       "</style>\n",
       "<table border=\"1\" class=\"dataframe\">\n",
       "  <thead>\n",
       "    <tr style=\"text-align: right;\">\n",
       "      <th></th>\n",
       "      <th>TV</th>\n",
       "      <th>Radio</th>\n",
       "      <th>Newspaper</th>\n",
       "      <th>Sales</th>\n",
       "    </tr>\n",
       "  </thead>\n",
       "  <tbody>\n",
       "    <tr>\n",
       "      <th>0</th>\n",
       "      <td>230.1</td>\n",
       "      <td>37.8</td>\n",
       "      <td>69.2</td>\n",
       "      <td>22.1</td>\n",
       "    </tr>\n",
       "    <tr>\n",
       "      <th>1</th>\n",
       "      <td>44.5</td>\n",
       "      <td>39.3</td>\n",
       "      <td>45.1</td>\n",
       "      <td>10.4</td>\n",
       "    </tr>\n",
       "    <tr>\n",
       "      <th>2</th>\n",
       "      <td>17.2</td>\n",
       "      <td>45.9</td>\n",
       "      <td>69.3</td>\n",
       "      <td>9.3</td>\n",
       "    </tr>\n",
       "    <tr>\n",
       "      <th>3</th>\n",
       "      <td>151.5</td>\n",
       "      <td>41.3</td>\n",
       "      <td>58.5</td>\n",
       "      <td>18.5</td>\n",
       "    </tr>\n",
       "    <tr>\n",
       "      <th>4</th>\n",
       "      <td>180.8</td>\n",
       "      <td>10.8</td>\n",
       "      <td>58.4</td>\n",
       "      <td>12.9</td>\n",
       "    </tr>\n",
       "  </tbody>\n",
       "</table>\n",
       "</div>"
      ],
      "text/plain": [
       "      TV  Radio  Newspaper  Sales\n",
       "0  230.1   37.8       69.2   22.1\n",
       "1   44.5   39.3       45.1   10.4\n",
       "2   17.2   45.9       69.3    9.3\n",
       "3  151.5   41.3       58.5   18.5\n",
       "4  180.8   10.8       58.4   12.9"
      ]
     },
     "execution_count": 28,
     "metadata": {},
     "output_type": "execute_result"
    }
   ],
   "source": [
    "df.head()"
   ]
  },
  {
   "cell_type": "code",
   "execution_count": 29,
   "id": "6921fa49",
   "metadata": {},
   "outputs": [],
   "source": [
    "#train test split"
   ]
  },
  {
   "cell_type": "code",
   "execution_count": 30,
   "id": "7d3f73a1",
   "metadata": {},
   "outputs": [],
   "source": [
    "train_df, test_df = train_test_split(df, test_size=0.2, random_state=42)"
   ]
  },
  {
   "cell_type": "code",
   "execution_count": 31,
   "id": "5d60cfd6",
   "metadata": {},
   "outputs": [],
   "source": [
    "#auto_model"
   ]
  },
  {
   "cell_type": "code",
   "execution_count": 32,
   "id": "d81bc009",
   "metadata": {},
   "outputs": [],
   "source": [
    "#setuping"
   ]
  },
  {
   "cell_type": "code",
   "execution_count": 33,
   "id": "accca709",
   "metadata": {},
   "outputs": [
    {
     "data": {
      "text/html": [
       "<style type=\"text/css\">\n",
       "#T_1b16b_row8_col1 {\n",
       "  background-color: lightgreen;\n",
       "}\n",
       "</style>\n",
       "<table id=\"T_1b16b\">\n",
       "  <thead>\n",
       "    <tr>\n",
       "      <th class=\"blank level0\" >&nbsp;</th>\n",
       "      <th id=\"T_1b16b_level0_col0\" class=\"col_heading level0 col0\" >Description</th>\n",
       "      <th id=\"T_1b16b_level0_col1\" class=\"col_heading level0 col1\" >Value</th>\n",
       "    </tr>\n",
       "  </thead>\n",
       "  <tbody>\n",
       "    <tr>\n",
       "      <th id=\"T_1b16b_level0_row0\" class=\"row_heading level0 row0\" >0</th>\n",
       "      <td id=\"T_1b16b_row0_col0\" class=\"data row0 col0\" >Session id</td>\n",
       "      <td id=\"T_1b16b_row0_col1\" class=\"data row0 col1\" >2342</td>\n",
       "    </tr>\n",
       "    <tr>\n",
       "      <th id=\"T_1b16b_level0_row1\" class=\"row_heading level0 row1\" >1</th>\n",
       "      <td id=\"T_1b16b_row1_col0\" class=\"data row1 col0\" >Target</td>\n",
       "      <td id=\"T_1b16b_row1_col1\" class=\"data row1 col1\" >Sales</td>\n",
       "    </tr>\n",
       "    <tr>\n",
       "      <th id=\"T_1b16b_level0_row2\" class=\"row_heading level0 row2\" >2</th>\n",
       "      <td id=\"T_1b16b_row2_col0\" class=\"data row2 col0\" >Target type</td>\n",
       "      <td id=\"T_1b16b_row2_col1\" class=\"data row2 col1\" >Regression</td>\n",
       "    </tr>\n",
       "    <tr>\n",
       "      <th id=\"T_1b16b_level0_row3\" class=\"row_heading level0 row3\" >3</th>\n",
       "      <td id=\"T_1b16b_row3_col0\" class=\"data row3 col0\" >Original data shape</td>\n",
       "      <td id=\"T_1b16b_row3_col1\" class=\"data row3 col1\" >(160, 4)</td>\n",
       "    </tr>\n",
       "    <tr>\n",
       "      <th id=\"T_1b16b_level0_row4\" class=\"row_heading level0 row4\" >4</th>\n",
       "      <td id=\"T_1b16b_row4_col0\" class=\"data row4 col0\" >Transformed data shape</td>\n",
       "      <td id=\"T_1b16b_row4_col1\" class=\"data row4 col1\" >(160, 4)</td>\n",
       "    </tr>\n",
       "    <tr>\n",
       "      <th id=\"T_1b16b_level0_row5\" class=\"row_heading level0 row5\" >5</th>\n",
       "      <td id=\"T_1b16b_row5_col0\" class=\"data row5 col0\" >Transformed train set shape</td>\n",
       "      <td id=\"T_1b16b_row5_col1\" class=\"data row5 col1\" >(112, 4)</td>\n",
       "    </tr>\n",
       "    <tr>\n",
       "      <th id=\"T_1b16b_level0_row6\" class=\"row_heading level0 row6\" >6</th>\n",
       "      <td id=\"T_1b16b_row6_col0\" class=\"data row6 col0\" >Transformed test set shape</td>\n",
       "      <td id=\"T_1b16b_row6_col1\" class=\"data row6 col1\" >(48, 4)</td>\n",
       "    </tr>\n",
       "    <tr>\n",
       "      <th id=\"T_1b16b_level0_row7\" class=\"row_heading level0 row7\" >7</th>\n",
       "      <td id=\"T_1b16b_row7_col0\" class=\"data row7 col0\" >Numeric features</td>\n",
       "      <td id=\"T_1b16b_row7_col1\" class=\"data row7 col1\" >3</td>\n",
       "    </tr>\n",
       "    <tr>\n",
       "      <th id=\"T_1b16b_level0_row8\" class=\"row_heading level0 row8\" >8</th>\n",
       "      <td id=\"T_1b16b_row8_col0\" class=\"data row8 col0\" >Preprocess</td>\n",
       "      <td id=\"T_1b16b_row8_col1\" class=\"data row8 col1\" >True</td>\n",
       "    </tr>\n",
       "    <tr>\n",
       "      <th id=\"T_1b16b_level0_row9\" class=\"row_heading level0 row9\" >9</th>\n",
       "      <td id=\"T_1b16b_row9_col0\" class=\"data row9 col0\" >Imputation type</td>\n",
       "      <td id=\"T_1b16b_row9_col1\" class=\"data row9 col1\" >simple</td>\n",
       "    </tr>\n",
       "    <tr>\n",
       "      <th id=\"T_1b16b_level0_row10\" class=\"row_heading level0 row10\" >10</th>\n",
       "      <td id=\"T_1b16b_row10_col0\" class=\"data row10 col0\" >Numeric imputation</td>\n",
       "      <td id=\"T_1b16b_row10_col1\" class=\"data row10 col1\" >mean</td>\n",
       "    </tr>\n",
       "    <tr>\n",
       "      <th id=\"T_1b16b_level0_row11\" class=\"row_heading level0 row11\" >11</th>\n",
       "      <td id=\"T_1b16b_row11_col0\" class=\"data row11 col0\" >Categorical imputation</td>\n",
       "      <td id=\"T_1b16b_row11_col1\" class=\"data row11 col1\" >mode</td>\n",
       "    </tr>\n",
       "    <tr>\n",
       "      <th id=\"T_1b16b_level0_row12\" class=\"row_heading level0 row12\" >12</th>\n",
       "      <td id=\"T_1b16b_row12_col0\" class=\"data row12 col0\" >Fold Generator</td>\n",
       "      <td id=\"T_1b16b_row12_col1\" class=\"data row12 col1\" >KFold</td>\n",
       "    </tr>\n",
       "    <tr>\n",
       "      <th id=\"T_1b16b_level0_row13\" class=\"row_heading level0 row13\" >13</th>\n",
       "      <td id=\"T_1b16b_row13_col0\" class=\"data row13 col0\" >Fold Number</td>\n",
       "      <td id=\"T_1b16b_row13_col1\" class=\"data row13 col1\" >10</td>\n",
       "    </tr>\n",
       "    <tr>\n",
       "      <th id=\"T_1b16b_level0_row14\" class=\"row_heading level0 row14\" >14</th>\n",
       "      <td id=\"T_1b16b_row14_col0\" class=\"data row14 col0\" >CPU Jobs</td>\n",
       "      <td id=\"T_1b16b_row14_col1\" class=\"data row14 col1\" >-1</td>\n",
       "    </tr>\n",
       "    <tr>\n",
       "      <th id=\"T_1b16b_level0_row15\" class=\"row_heading level0 row15\" >15</th>\n",
       "      <td id=\"T_1b16b_row15_col0\" class=\"data row15 col0\" >Use GPU</td>\n",
       "      <td id=\"T_1b16b_row15_col1\" class=\"data row15 col1\" >False</td>\n",
       "    </tr>\n",
       "    <tr>\n",
       "      <th id=\"T_1b16b_level0_row16\" class=\"row_heading level0 row16\" >16</th>\n",
       "      <td id=\"T_1b16b_row16_col0\" class=\"data row16 col0\" >Log Experiment</td>\n",
       "      <td id=\"T_1b16b_row16_col1\" class=\"data row16 col1\" >False</td>\n",
       "    </tr>\n",
       "    <tr>\n",
       "      <th id=\"T_1b16b_level0_row17\" class=\"row_heading level0 row17\" >17</th>\n",
       "      <td id=\"T_1b16b_row17_col0\" class=\"data row17 col0\" >Experiment Name</td>\n",
       "      <td id=\"T_1b16b_row17_col1\" class=\"data row17 col1\" >reg-default-name</td>\n",
       "    </tr>\n",
       "    <tr>\n",
       "      <th id=\"T_1b16b_level0_row18\" class=\"row_heading level0 row18\" >18</th>\n",
       "      <td id=\"T_1b16b_row18_col0\" class=\"data row18 col0\" >USI</td>\n",
       "      <td id=\"T_1b16b_row18_col1\" class=\"data row18 col1\" >a008</td>\n",
       "    </tr>\n",
       "  </tbody>\n",
       "</table>\n"
      ],
      "text/plain": [
       "<pandas.io.formats.style.Styler at 0x2bca34323a0>"
      ]
     },
     "metadata": {},
     "output_type": "display_data"
    },
    {
     "data": {
      "text/plain": [
       "<pycaret.regression.oop.RegressionExperiment at 0x2bca0748ca0>"
      ]
     },
     "execution_count": 33,
     "metadata": {},
     "output_type": "execute_result"
    }
   ],
   "source": [
    "setup(data=train_df,target='Sales')"
   ]
  },
  {
   "cell_type": "code",
   "execution_count": 34,
   "id": "2b3f793e",
   "metadata": {},
   "outputs": [],
   "source": [
    "#fit model"
   ]
  },
  {
   "cell_type": "code",
   "execution_count": 35,
   "id": "2934d72b",
   "metadata": {},
   "outputs": [
    {
     "data": {
      "text/html": [],
      "text/plain": [
       "<IPython.core.display.HTML object>"
      ]
     },
     "metadata": {},
     "output_type": "display_data"
    },
    {
     "data": {
      "text/html": [
       "<style type=\"text/css\">\n",
       "#T_816d2 th {\n",
       "  text-align: left;\n",
       "}\n",
       "#T_816d2_row0_col0, #T_816d2_row1_col0, #T_816d2_row1_col1, #T_816d2_row1_col2, #T_816d2_row1_col3, #T_816d2_row1_col4, #T_816d2_row1_col5, #T_816d2_row1_col6, #T_816d2_row2_col0, #T_816d2_row2_col1, #T_816d2_row2_col2, #T_816d2_row2_col3, #T_816d2_row2_col4, #T_816d2_row2_col5, #T_816d2_row2_col6, #T_816d2_row3_col0, #T_816d2_row3_col1, #T_816d2_row3_col2, #T_816d2_row3_col3, #T_816d2_row3_col4, #T_816d2_row3_col5, #T_816d2_row3_col6, #T_816d2_row4_col0, #T_816d2_row4_col1, #T_816d2_row4_col2, #T_816d2_row4_col3, #T_816d2_row4_col4, #T_816d2_row4_col5, #T_816d2_row4_col6, #T_816d2_row5_col0, #T_816d2_row5_col1, #T_816d2_row5_col2, #T_816d2_row5_col3, #T_816d2_row5_col4, #T_816d2_row5_col5, #T_816d2_row5_col6, #T_816d2_row6_col0, #T_816d2_row6_col1, #T_816d2_row6_col2, #T_816d2_row6_col3, #T_816d2_row6_col4, #T_816d2_row6_col5, #T_816d2_row6_col6, #T_816d2_row7_col0, #T_816d2_row7_col1, #T_816d2_row7_col2, #T_816d2_row7_col3, #T_816d2_row7_col4, #T_816d2_row7_col5, #T_816d2_row7_col6, #T_816d2_row8_col0, #T_816d2_row8_col1, #T_816d2_row8_col2, #T_816d2_row8_col3, #T_816d2_row8_col4, #T_816d2_row8_col5, #T_816d2_row8_col6, #T_816d2_row9_col0, #T_816d2_row9_col1, #T_816d2_row9_col2, #T_816d2_row9_col3, #T_816d2_row9_col4, #T_816d2_row9_col5, #T_816d2_row9_col6, #T_816d2_row10_col0, #T_816d2_row10_col1, #T_816d2_row10_col2, #T_816d2_row10_col3, #T_816d2_row10_col4, #T_816d2_row10_col5, #T_816d2_row10_col6, #T_816d2_row11_col0, #T_816d2_row11_col1, #T_816d2_row11_col2, #T_816d2_row11_col3, #T_816d2_row11_col4, #T_816d2_row11_col5, #T_816d2_row11_col6, #T_816d2_row12_col0, #T_816d2_row12_col1, #T_816d2_row12_col2, #T_816d2_row12_col3, #T_816d2_row12_col4, #T_816d2_row12_col5, #T_816d2_row12_col6, #T_816d2_row13_col0, #T_816d2_row13_col1, #T_816d2_row13_col2, #T_816d2_row13_col3, #T_816d2_row13_col4, #T_816d2_row13_col5, #T_816d2_row13_col6, #T_816d2_row14_col0, #T_816d2_row14_col1, #T_816d2_row14_col2, #T_816d2_row14_col3, #T_816d2_row14_col4, #T_816d2_row14_col5, #T_816d2_row14_col6, #T_816d2_row15_col0, #T_816d2_row15_col1, #T_816d2_row15_col2, #T_816d2_row15_col3, #T_816d2_row15_col4, #T_816d2_row15_col5, #T_816d2_row15_col6, #T_816d2_row16_col0, #T_816d2_row16_col1, #T_816d2_row16_col2, #T_816d2_row16_col3, #T_816d2_row16_col4, #T_816d2_row16_col5, #T_816d2_row16_col6, #T_816d2_row17_col0, #T_816d2_row17_col1, #T_816d2_row17_col2, #T_816d2_row17_col3, #T_816d2_row17_col4, #T_816d2_row17_col5, #T_816d2_row17_col6, #T_816d2_row18_col0, #T_816d2_row18_col1, #T_816d2_row18_col2, #T_816d2_row18_col3, #T_816d2_row18_col4, #T_816d2_row18_col5, #T_816d2_row18_col6, #T_816d2_row19_col0, #T_816d2_row19_col1, #T_816d2_row19_col2, #T_816d2_row19_col3, #T_816d2_row19_col4, #T_816d2_row19_col5, #T_816d2_row19_col6 {\n",
       "  text-align: left;\n",
       "}\n",
       "#T_816d2_row0_col1, #T_816d2_row0_col2, #T_816d2_row0_col3, #T_816d2_row0_col4, #T_816d2_row0_col5, #T_816d2_row0_col6 {\n",
       "  text-align: left;\n",
       "  background-color: yellow;\n",
       "}\n",
       "#T_816d2_row0_col7, #T_816d2_row1_col7, #T_816d2_row2_col7, #T_816d2_row3_col7, #T_816d2_row4_col7, #T_816d2_row5_col7, #T_816d2_row6_col7, #T_816d2_row7_col7, #T_816d2_row8_col7, #T_816d2_row9_col7, #T_816d2_row10_col7, #T_816d2_row11_col7, #T_816d2_row12_col7, #T_816d2_row13_col7, #T_816d2_row15_col7, #T_816d2_row16_col7, #T_816d2_row17_col7, #T_816d2_row19_col7 {\n",
       "  text-align: left;\n",
       "  background-color: lightgrey;\n",
       "}\n",
       "#T_816d2_row14_col7, #T_816d2_row18_col7 {\n",
       "  text-align: left;\n",
       "  background-color: yellow;\n",
       "  background-color: lightgrey;\n",
       "}\n",
       "</style>\n",
       "<table id=\"T_816d2\">\n",
       "  <thead>\n",
       "    <tr>\n",
       "      <th class=\"blank level0\" >&nbsp;</th>\n",
       "      <th id=\"T_816d2_level0_col0\" class=\"col_heading level0 col0\" >Model</th>\n",
       "      <th id=\"T_816d2_level0_col1\" class=\"col_heading level0 col1\" >MAE</th>\n",
       "      <th id=\"T_816d2_level0_col2\" class=\"col_heading level0 col2\" >MSE</th>\n",
       "      <th id=\"T_816d2_level0_col3\" class=\"col_heading level0 col3\" >RMSE</th>\n",
       "      <th id=\"T_816d2_level0_col4\" class=\"col_heading level0 col4\" >R2</th>\n",
       "      <th id=\"T_816d2_level0_col5\" class=\"col_heading level0 col5\" >RMSLE</th>\n",
       "      <th id=\"T_816d2_level0_col6\" class=\"col_heading level0 col6\" >MAPE</th>\n",
       "      <th id=\"T_816d2_level0_col7\" class=\"col_heading level0 col7\" >TT (Sec)</th>\n",
       "    </tr>\n",
       "  </thead>\n",
       "  <tbody>\n",
       "    <tr>\n",
       "      <th id=\"T_816d2_level0_row0\" class=\"row_heading level0 row0\" >et</th>\n",
       "      <td id=\"T_816d2_row0_col0\" class=\"data row0 col0\" >Extra Trees Regressor</td>\n",
       "      <td id=\"T_816d2_row0_col1\" class=\"data row0 col1\" >0.4423</td>\n",
       "      <td id=\"T_816d2_row0_col2\" class=\"data row0 col2\" >0.6372</td>\n",
       "      <td id=\"T_816d2_row0_col3\" class=\"data row0 col3\" >0.6136</td>\n",
       "      <td id=\"T_816d2_row0_col4\" class=\"data row0 col4\" >0.9820</td>\n",
       "      <td id=\"T_816d2_row0_col5\" class=\"data row0 col5\" >0.0727</td>\n",
       "      <td id=\"T_816d2_row0_col6\" class=\"data row0 col6\" >0.0718</td>\n",
       "      <td id=\"T_816d2_row0_col7\" class=\"data row0 col7\" >0.0550</td>\n",
       "    </tr>\n",
       "    <tr>\n",
       "      <th id=\"T_816d2_level0_row1\" class=\"row_heading level0 row1\" >catboost</th>\n",
       "      <td id=\"T_816d2_row1_col0\" class=\"data row1 col0\" >CatBoost Regressor</td>\n",
       "      <td id=\"T_816d2_row1_col1\" class=\"data row1 col1\" >0.5888</td>\n",
       "      <td id=\"T_816d2_row1_col2\" class=\"data row1 col2\" >1.1539</td>\n",
       "      <td id=\"T_816d2_row1_col3\" class=\"data row1 col3\" >0.8883</td>\n",
       "      <td id=\"T_816d2_row1_col4\" class=\"data row1 col4\" >0.9681</td>\n",
       "      <td id=\"T_816d2_row1_col5\" class=\"data row1 col5\" >0.1033</td>\n",
       "      <td id=\"T_816d2_row1_col6\" class=\"data row1 col6\" >0.0980</td>\n",
       "      <td id=\"T_816d2_row1_col7\" class=\"data row1 col7\" >0.3100</td>\n",
       "    </tr>\n",
       "    <tr>\n",
       "      <th id=\"T_816d2_level0_row2\" class=\"row_heading level0 row2\" >gbr</th>\n",
       "      <td id=\"T_816d2_row2_col0\" class=\"data row2 col0\" >Gradient Boosting Regressor</td>\n",
       "      <td id=\"T_816d2_row2_col1\" class=\"data row2 col1\" >0.6536</td>\n",
       "      <td id=\"T_816d2_row2_col2\" class=\"data row2 col2\" >1.0191</td>\n",
       "      <td id=\"T_816d2_row2_col3\" class=\"data row2 col3\" >0.8881</td>\n",
       "      <td id=\"T_816d2_row2_col4\" class=\"data row2 col4\" >0.9616</td>\n",
       "      <td id=\"T_816d2_row2_col5\" class=\"data row2 col5\" >0.0948</td>\n",
       "      <td id=\"T_816d2_row2_col6\" class=\"data row2 col6\" >0.0892</td>\n",
       "      <td id=\"T_816d2_row2_col7\" class=\"data row2 col7\" >0.0230</td>\n",
       "    </tr>\n",
       "    <tr>\n",
       "      <th id=\"T_816d2_level0_row3\" class=\"row_heading level0 row3\" >rf</th>\n",
       "      <td id=\"T_816d2_row3_col0\" class=\"data row3 col0\" >Random Forest Regressor</td>\n",
       "      <td id=\"T_816d2_row3_col1\" class=\"data row3 col1\" >0.7507</td>\n",
       "      <td id=\"T_816d2_row3_col2\" class=\"data row3 col2\" >1.1821</td>\n",
       "      <td id=\"T_816d2_row3_col3\" class=\"data row3 col3\" >0.9738</td>\n",
       "      <td id=\"T_816d2_row3_col4\" class=\"data row3 col4\" >0.9573</td>\n",
       "      <td id=\"T_816d2_row3_col5\" class=\"data row3 col5\" >0.1012</td>\n",
       "      <td id=\"T_816d2_row3_col6\" class=\"data row3 col6\" >0.0985</td>\n",
       "      <td id=\"T_816d2_row3_col7\" class=\"data row3 col7\" >0.0850</td>\n",
       "    </tr>\n",
       "    <tr>\n",
       "      <th id=\"T_816d2_level0_row4\" class=\"row_heading level0 row4\" >xgboost</th>\n",
       "      <td id=\"T_816d2_row4_col0\" class=\"data row4 col0\" >Extreme Gradient Boosting</td>\n",
       "      <td id=\"T_816d2_row4_col1\" class=\"data row4 col1\" >0.8138</td>\n",
       "      <td id=\"T_816d2_row4_col2\" class=\"data row4 col2\" >1.3787</td>\n",
       "      <td id=\"T_816d2_row4_col3\" class=\"data row4 col3\" >1.0843</td>\n",
       "      <td id=\"T_816d2_row4_col4\" class=\"data row4 col4\" >0.9447</td>\n",
       "      <td id=\"T_816d2_row4_col5\" class=\"data row4 col5\" >0.1065</td>\n",
       "      <td id=\"T_816d2_row4_col6\" class=\"data row4 col6\" >0.1001</td>\n",
       "      <td id=\"T_816d2_row4_col7\" class=\"data row4 col7\" >0.0330</td>\n",
       "    </tr>\n",
       "    <tr>\n",
       "      <th id=\"T_816d2_level0_row5\" class=\"row_heading level0 row5\" >ada</th>\n",
       "      <td id=\"T_816d2_row5_col0\" class=\"data row5 col0\" >AdaBoost Regressor</td>\n",
       "      <td id=\"T_816d2_row5_col1\" class=\"data row5 col1\" >1.0935</td>\n",
       "      <td id=\"T_816d2_row5_col2\" class=\"data row5 col2\" >2.0724</td>\n",
       "      <td id=\"T_816d2_row5_col3\" class=\"data row5 col3\" >1.3546</td>\n",
       "      <td id=\"T_816d2_row5_col4\" class=\"data row5 col4\" >0.9189</td>\n",
       "      <td id=\"T_816d2_row5_col5\" class=\"data row5 col5\" >0.1307</td>\n",
       "      <td id=\"T_816d2_row5_col6\" class=\"data row5 col6\" >0.1329</td>\n",
       "      <td id=\"T_816d2_row5_col7\" class=\"data row5 col7\" >0.0300</td>\n",
       "    </tr>\n",
       "    <tr>\n",
       "      <th id=\"T_816d2_level0_row6\" class=\"row_heading level0 row6\" >lightgbm</th>\n",
       "      <td id=\"T_816d2_row6_col0\" class=\"data row6 col0\" >Light Gradient Boosting Machine</td>\n",
       "      <td id=\"T_816d2_row6_col1\" class=\"data row6 col1\" >1.0695</td>\n",
       "      <td id=\"T_816d2_row6_col2\" class=\"data row6 col2\" >2.4030</td>\n",
       "      <td id=\"T_816d2_row6_col3\" class=\"data row6 col3\" >1.3765</td>\n",
       "      <td id=\"T_816d2_row6_col4\" class=\"data row6 col4\" >0.9177</td>\n",
       "      <td id=\"T_816d2_row6_col5\" class=\"data row6 col5\" >0.1402</td>\n",
       "      <td id=\"T_816d2_row6_col6\" class=\"data row6 col6\" >0.1427</td>\n",
       "      <td id=\"T_816d2_row6_col7\" class=\"data row6 col7\" >0.0350</td>\n",
       "    </tr>\n",
       "    <tr>\n",
       "      <th id=\"T_816d2_level0_row7\" class=\"row_heading level0 row7\" >dt</th>\n",
       "      <td id=\"T_816d2_row7_col0\" class=\"data row7 col0\" >Decision Tree Regressor</td>\n",
       "      <td id=\"T_816d2_row7_col1\" class=\"data row7 col1\" >1.0338</td>\n",
       "      <td id=\"T_816d2_row7_col2\" class=\"data row7 col2\" >2.4972</td>\n",
       "      <td id=\"T_816d2_row7_col3\" class=\"data row7 col3\" >1.4254</td>\n",
       "      <td id=\"T_816d2_row7_col4\" class=\"data row7 col4\" >0.8763</td>\n",
       "      <td id=\"T_816d2_row7_col5\" class=\"data row7 col5\" >0.1611</td>\n",
       "      <td id=\"T_816d2_row7_col6\" class=\"data row7 col6\" >0.1129</td>\n",
       "      <td id=\"T_816d2_row7_col7\" class=\"data row7 col7\" >0.0140</td>\n",
       "    </tr>\n",
       "    <tr>\n",
       "      <th id=\"T_816d2_level0_row8\" class=\"row_heading level0 row8\" >lasso</th>\n",
       "      <td id=\"T_816d2_row8_col0\" class=\"data row8 col0\" >Lasso Regression</td>\n",
       "      <td id=\"T_816d2_row8_col1\" class=\"data row8 col1\" >1.4043</td>\n",
       "      <td id=\"T_816d2_row8_col2\" class=\"data row8 col2\" >3.7011</td>\n",
       "      <td id=\"T_816d2_row8_col3\" class=\"data row8 col3\" >1.8274</td>\n",
       "      <td id=\"T_816d2_row8_col4\" class=\"data row8 col4\" >0.8692</td>\n",
       "      <td id=\"T_816d2_row8_col5\" class=\"data row8 col5\" >0.1720</td>\n",
       "      <td id=\"T_816d2_row8_col6\" class=\"data row8 col6\" >0.1731</td>\n",
       "      <td id=\"T_816d2_row8_col7\" class=\"data row8 col7\" >0.0110</td>\n",
       "    </tr>\n",
       "    <tr>\n",
       "      <th id=\"T_816d2_level0_row9\" class=\"row_heading level0 row9\" >llar</th>\n",
       "      <td id=\"T_816d2_row9_col0\" class=\"data row9 col0\" >Lasso Least Angle Regression</td>\n",
       "      <td id=\"T_816d2_row9_col1\" class=\"data row9 col1\" >1.4043</td>\n",
       "      <td id=\"T_816d2_row9_col2\" class=\"data row9 col2\" >3.7011</td>\n",
       "      <td id=\"T_816d2_row9_col3\" class=\"data row9 col3\" >1.8274</td>\n",
       "      <td id=\"T_816d2_row9_col4\" class=\"data row9 col4\" >0.8692</td>\n",
       "      <td id=\"T_816d2_row9_col5\" class=\"data row9 col5\" >0.1720</td>\n",
       "      <td id=\"T_816d2_row9_col6\" class=\"data row9 col6\" >0.1731</td>\n",
       "      <td id=\"T_816d2_row9_col7\" class=\"data row9 col7\" >0.0130</td>\n",
       "    </tr>\n",
       "    <tr>\n",
       "      <th id=\"T_816d2_level0_row10\" class=\"row_heading level0 row10\" >en</th>\n",
       "      <td id=\"T_816d2_row10_col0\" class=\"data row10 col0\" >Elastic Net</td>\n",
       "      <td id=\"T_816d2_row10_col1\" class=\"data row10 col1\" >1.4047</td>\n",
       "      <td id=\"T_816d2_row10_col2\" class=\"data row10 col2\" >3.7022</td>\n",
       "      <td id=\"T_816d2_row10_col3\" class=\"data row10 col3\" >1.8278</td>\n",
       "      <td id=\"T_816d2_row10_col4\" class=\"data row10 col4\" >0.8691</td>\n",
       "      <td id=\"T_816d2_row10_col5\" class=\"data row10 col5\" >0.1732</td>\n",
       "      <td id=\"T_816d2_row10_col6\" class=\"data row10 col6\" >0.1739</td>\n",
       "      <td id=\"T_816d2_row10_col7\" class=\"data row10 col7\" >0.0110</td>\n",
       "    </tr>\n",
       "    <tr>\n",
       "      <th id=\"T_816d2_level0_row11\" class=\"row_heading level0 row11\" >lr</th>\n",
       "      <td id=\"T_816d2_row11_col0\" class=\"data row11 col0\" >Linear Regression</td>\n",
       "      <td id=\"T_816d2_row11_col1\" class=\"data row11 col1\" >1.4044</td>\n",
       "      <td id=\"T_816d2_row11_col2\" class=\"data row11 col2\" >3.7069</td>\n",
       "      <td id=\"T_816d2_row11_col3\" class=\"data row11 col3\" >1.8290</td>\n",
       "      <td id=\"T_816d2_row11_col4\" class=\"data row11 col4\" >0.8689</td>\n",
       "      <td id=\"T_816d2_row11_col5\" class=\"data row11 col5\" >0.1751</td>\n",
       "      <td id=\"T_816d2_row11_col6\" class=\"data row11 col6\" >0.1749</td>\n",
       "      <td id=\"T_816d2_row11_col7\" class=\"data row11 col7\" >0.0140</td>\n",
       "    </tr>\n",
       "    <tr>\n",
       "      <th id=\"T_816d2_level0_row12\" class=\"row_heading level0 row12\" >ridge</th>\n",
       "      <td id=\"T_816d2_row12_col0\" class=\"data row12 col0\" >Ridge Regression</td>\n",
       "      <td id=\"T_816d2_row12_col1\" class=\"data row12 col1\" >1.4044</td>\n",
       "      <td id=\"T_816d2_row12_col2\" class=\"data row12 col2\" >3.7069</td>\n",
       "      <td id=\"T_816d2_row12_col3\" class=\"data row12 col3\" >1.8290</td>\n",
       "      <td id=\"T_816d2_row12_col4\" class=\"data row12 col4\" >0.8689</td>\n",
       "      <td id=\"T_816d2_row12_col5\" class=\"data row12 col5\" >0.1750</td>\n",
       "      <td id=\"T_816d2_row12_col6\" class=\"data row12 col6\" >0.1749</td>\n",
       "      <td id=\"T_816d2_row12_col7\" class=\"data row12 col7\" >0.0110</td>\n",
       "    </tr>\n",
       "    <tr>\n",
       "      <th id=\"T_816d2_level0_row13\" class=\"row_heading level0 row13\" >lar</th>\n",
       "      <td id=\"T_816d2_row13_col0\" class=\"data row13 col0\" >Least Angle Regression</td>\n",
       "      <td id=\"T_816d2_row13_col1\" class=\"data row13 col1\" >1.4044</td>\n",
       "      <td id=\"T_816d2_row13_col2\" class=\"data row13 col2\" >3.7069</td>\n",
       "      <td id=\"T_816d2_row13_col3\" class=\"data row13 col3\" >1.8290</td>\n",
       "      <td id=\"T_816d2_row13_col4\" class=\"data row13 col4\" >0.8689</td>\n",
       "      <td id=\"T_816d2_row13_col5\" class=\"data row13 col5\" >0.1751</td>\n",
       "      <td id=\"T_816d2_row13_col6\" class=\"data row13 col6\" >0.1749</td>\n",
       "      <td id=\"T_816d2_row13_col7\" class=\"data row13 col7\" >0.0130</td>\n",
       "    </tr>\n",
       "    <tr>\n",
       "      <th id=\"T_816d2_level0_row14\" class=\"row_heading level0 row14\" >br</th>\n",
       "      <td id=\"T_816d2_row14_col0\" class=\"data row14 col0\" >Bayesian Ridge</td>\n",
       "      <td id=\"T_816d2_row14_col1\" class=\"data row14 col1\" >1.4079</td>\n",
       "      <td id=\"T_816d2_row14_col2\" class=\"data row14 col2\" >3.7070</td>\n",
       "      <td id=\"T_816d2_row14_col3\" class=\"data row14 col3\" >1.8295</td>\n",
       "      <td id=\"T_816d2_row14_col4\" class=\"data row14 col4\" >0.8688</td>\n",
       "      <td id=\"T_816d2_row14_col5\" class=\"data row14 col5\" >0.1735</td>\n",
       "      <td id=\"T_816d2_row14_col6\" class=\"data row14 col6\" >0.1742</td>\n",
       "      <td id=\"T_816d2_row14_col7\" class=\"data row14 col7\" >0.0090</td>\n",
       "    </tr>\n",
       "    <tr>\n",
       "      <th id=\"T_816d2_level0_row15\" class=\"row_heading level0 row15\" >knn</th>\n",
       "      <td id=\"T_816d2_row15_col0\" class=\"data row15 col0\" >K Neighbors Regressor</td>\n",
       "      <td id=\"T_816d2_row15_col1\" class=\"data row15 col1\" >1.4212</td>\n",
       "      <td id=\"T_816d2_row15_col2\" class=\"data row15 col2\" >3.5883</td>\n",
       "      <td id=\"T_816d2_row15_col3\" class=\"data row15 col3\" >1.8157</td>\n",
       "      <td id=\"T_816d2_row15_col4\" class=\"data row15 col4\" >0.8600</td>\n",
       "      <td id=\"T_816d2_row15_col5\" class=\"data row15 col5\" >0.1389</td>\n",
       "      <td id=\"T_816d2_row15_col6\" class=\"data row15 col6\" >0.1395</td>\n",
       "      <td id=\"T_816d2_row15_col7\" class=\"data row15 col7\" >0.0160</td>\n",
       "    </tr>\n",
       "    <tr>\n",
       "      <th id=\"T_816d2_level0_row16\" class=\"row_heading level0 row16\" >huber</th>\n",
       "      <td id=\"T_816d2_row16_col0\" class=\"data row16 col0\" >Huber Regressor</td>\n",
       "      <td id=\"T_816d2_row16_col1\" class=\"data row16 col1\" >1.3564</td>\n",
       "      <td id=\"T_816d2_row16_col2\" class=\"data row16 col2\" >3.9340</td>\n",
       "      <td id=\"T_816d2_row16_col3\" class=\"data row16 col3\" >1.8701</td>\n",
       "      <td id=\"T_816d2_row16_col4\" class=\"data row16 col4\" >0.8598</td>\n",
       "      <td id=\"T_816d2_row16_col5\" class=\"data row16 col5\" >0.1747</td>\n",
       "      <td id=\"T_816d2_row16_col6\" class=\"data row16 col6\" >0.1768</td>\n",
       "      <td id=\"T_816d2_row16_col7\" class=\"data row16 col7\" >0.0130</td>\n",
       "    </tr>\n",
       "    <tr>\n",
       "      <th id=\"T_816d2_level0_row17\" class=\"row_heading level0 row17\" >par</th>\n",
       "      <td id=\"T_816d2_row17_col0\" class=\"data row17 col0\" >Passive Aggressive Regressor</td>\n",
       "      <td id=\"T_816d2_row17_col1\" class=\"data row17 col1\" >2.4721</td>\n",
       "      <td id=\"T_816d2_row17_col2\" class=\"data row17 col2\" >8.7844</td>\n",
       "      <td id=\"T_816d2_row17_col3\" class=\"data row17 col3\" >2.9068</td>\n",
       "      <td id=\"T_816d2_row17_col4\" class=\"data row17 col4\" >0.6087</td>\n",
       "      <td id=\"T_816d2_row17_col5\" class=\"data row17 col5\" >0.2646</td>\n",
       "      <td id=\"T_816d2_row17_col6\" class=\"data row17 col6\" >0.2312</td>\n",
       "      <td id=\"T_816d2_row17_col7\" class=\"data row17 col7\" >0.0110</td>\n",
       "    </tr>\n",
       "    <tr>\n",
       "      <th id=\"T_816d2_level0_row18\" class=\"row_heading level0 row18\" >omp</th>\n",
       "      <td id=\"T_816d2_row18_col0\" class=\"data row18 col0\" >Orthogonal Matching Pursuit</td>\n",
       "      <td id=\"T_816d2_row18_col1\" class=\"data row18 col1\" >2.6628</td>\n",
       "      <td id=\"T_816d2_row18_col2\" class=\"data row18 col2\" >11.3717</td>\n",
       "      <td id=\"T_816d2_row18_col3\" class=\"data row18 col3\" >3.3249</td>\n",
       "      <td id=\"T_816d2_row18_col4\" class=\"data row18 col4\" >0.5308</td>\n",
       "      <td id=\"T_816d2_row18_col5\" class=\"data row18 col5\" >0.2242</td>\n",
       "      <td id=\"T_816d2_row18_col6\" class=\"data row18 col6\" >0.2293</td>\n",
       "      <td id=\"T_816d2_row18_col7\" class=\"data row18 col7\" >0.0090</td>\n",
       "    </tr>\n",
       "    <tr>\n",
       "      <th id=\"T_816d2_level0_row19\" class=\"row_heading level0 row19\" >dummy</th>\n",
       "      <td id=\"T_816d2_row19_col0\" class=\"data row19 col0\" >Dummy Regressor</td>\n",
       "      <td id=\"T_816d2_row19_col1\" class=\"data row19 col1\" >4.3261</td>\n",
       "      <td id=\"T_816d2_row19_col2\" class=\"data row19 col2\" >28.6217</td>\n",
       "      <td id=\"T_816d2_row19_col3\" class=\"data row19 col3\" >5.2240</td>\n",
       "      <td id=\"T_816d2_row19_col4\" class=\"data row19 col4\" >-0.0585</td>\n",
       "      <td id=\"T_816d2_row19_col5\" class=\"data row19 col5\" >0.3817</td>\n",
       "      <td id=\"T_816d2_row19_col6\" class=\"data row19 col6\" >0.4418</td>\n",
       "      <td id=\"T_816d2_row19_col7\" class=\"data row19 col7\" >0.0120</td>\n",
       "    </tr>\n",
       "  </tbody>\n",
       "</table>\n"
      ],
      "text/plain": [
       "<pandas.io.formats.style.Styler at 0x2bca35af1f0>"
      ]
     },
     "metadata": {},
     "output_type": "display_data"
    },
    {
     "data": {
      "application/vnd.jupyter.widget-view+json": {
       "model_id": "",
       "version_major": 2,
       "version_minor": 0
      },
      "text/plain": [
       "Processing:   0%|          | 0/85 [00:00<?, ?it/s]"
      ]
     },
     "metadata": {},
     "output_type": "display_data"
    }
   ],
   "source": [
    "best_model= compare_models()"
   ]
  },
  {
   "cell_type": "code",
   "execution_count": 36,
   "id": "e166a8b9",
   "metadata": {},
   "outputs": [],
   "source": [
    "#Cros Over best model"
   ]
  },
  {
   "cell_type": "code",
   "execution_count": 37,
   "id": "d7e4258e",
   "metadata": {},
   "outputs": [
    {
     "data": {
      "text/html": [],
      "text/plain": [
       "<IPython.core.display.HTML object>"
      ]
     },
     "metadata": {},
     "output_type": "display_data"
    },
    {
     "data": {
      "text/html": [
       "<style type=\"text/css\">\n",
       "#T_529a8_row10_col0, #T_529a8_row10_col1, #T_529a8_row10_col2, #T_529a8_row10_col3, #T_529a8_row10_col4, #T_529a8_row10_col5 {\n",
       "  background: yellow;\n",
       "}\n",
       "</style>\n",
       "<table id=\"T_529a8\">\n",
       "  <thead>\n",
       "    <tr>\n",
       "      <th class=\"blank level0\" >&nbsp;</th>\n",
       "      <th id=\"T_529a8_level0_col0\" class=\"col_heading level0 col0\" >MAE</th>\n",
       "      <th id=\"T_529a8_level0_col1\" class=\"col_heading level0 col1\" >MSE</th>\n",
       "      <th id=\"T_529a8_level0_col2\" class=\"col_heading level0 col2\" >RMSE</th>\n",
       "      <th id=\"T_529a8_level0_col3\" class=\"col_heading level0 col3\" >R2</th>\n",
       "      <th id=\"T_529a8_level0_col4\" class=\"col_heading level0 col4\" >RMSLE</th>\n",
       "      <th id=\"T_529a8_level0_col5\" class=\"col_heading level0 col5\" >MAPE</th>\n",
       "    </tr>\n",
       "    <tr>\n",
       "      <th class=\"index_name level0\" >Fold</th>\n",
       "      <th class=\"blank col0\" >&nbsp;</th>\n",
       "      <th class=\"blank col1\" >&nbsp;</th>\n",
       "      <th class=\"blank col2\" >&nbsp;</th>\n",
       "      <th class=\"blank col3\" >&nbsp;</th>\n",
       "      <th class=\"blank col4\" >&nbsp;</th>\n",
       "      <th class=\"blank col5\" >&nbsp;</th>\n",
       "    </tr>\n",
       "  </thead>\n",
       "  <tbody>\n",
       "    <tr>\n",
       "      <th id=\"T_529a8_level0_row0\" class=\"row_heading level0 row0\" >0</th>\n",
       "      <td id=\"T_529a8_row0_col0\" class=\"data row0 col0\" >0.3918</td>\n",
       "      <td id=\"T_529a8_row0_col1\" class=\"data row0 col1\" >0.2572</td>\n",
       "      <td id=\"T_529a8_row0_col2\" class=\"data row0 col2\" >0.5072</td>\n",
       "      <td id=\"T_529a8_row0_col3\" class=\"data row0 col3\" >0.9875</td>\n",
       "      <td id=\"T_529a8_row0_col4\" class=\"data row0 col4\" >0.0404</td>\n",
       "      <td id=\"T_529a8_row0_col5\" class=\"data row0 col5\" >0.0290</td>\n",
       "    </tr>\n",
       "    <tr>\n",
       "      <th id=\"T_529a8_level0_row1\" class=\"row_heading level0 row1\" >1</th>\n",
       "      <td id=\"T_529a8_row1_col0\" class=\"data row1 col0\" >0.1993</td>\n",
       "      <td id=\"T_529a8_row1_col1\" class=\"data row1 col1\" >0.0575</td>\n",
       "      <td id=\"T_529a8_row1_col2\" class=\"data row1 col2\" >0.2397</td>\n",
       "      <td id=\"T_529a8_row1_col3\" class=\"data row1 col3\" >0.9984</td>\n",
       "      <td id=\"T_529a8_row1_col4\" class=\"data row1 col4\" >0.0175</td>\n",
       "      <td id=\"T_529a8_row1_col5\" class=\"data row1 col5\" >0.0158</td>\n",
       "    </tr>\n",
       "    <tr>\n",
       "      <th id=\"T_529a8_level0_row2\" class=\"row_heading level0 row2\" >2</th>\n",
       "      <td id=\"T_529a8_row2_col0\" class=\"data row2 col0\" >0.1909</td>\n",
       "      <td id=\"T_529a8_row2_col1\" class=\"data row2 col1\" >0.0566</td>\n",
       "      <td id=\"T_529a8_row2_col2\" class=\"data row2 col2\" >0.2379</td>\n",
       "      <td id=\"T_529a8_row2_col3\" class=\"data row2 col3\" >0.9970</td>\n",
       "      <td id=\"T_529a8_row2_col4\" class=\"data row2 col4\" >0.0132</td>\n",
       "      <td id=\"T_529a8_row2_col5\" class=\"data row2 col5\" >0.0123</td>\n",
       "    </tr>\n",
       "    <tr>\n",
       "      <th id=\"T_529a8_level0_row3\" class=\"row_heading level0 row3\" >3</th>\n",
       "      <td id=\"T_529a8_row3_col0\" class=\"data row3 col0\" >0.3327</td>\n",
       "      <td id=\"T_529a8_row3_col1\" class=\"data row3 col1\" >0.1656</td>\n",
       "      <td id=\"T_529a8_row3_col2\" class=\"data row3 col2\" >0.4070</td>\n",
       "      <td id=\"T_529a8_row3_col3\" class=\"data row3 col3\" >0.9950</td>\n",
       "      <td id=\"T_529a8_row3_col4\" class=\"data row3 col4\" >0.0232</td>\n",
       "      <td id=\"T_529a8_row3_col5\" class=\"data row3 col5\" >0.0217</td>\n",
       "    </tr>\n",
       "    <tr>\n",
       "      <th id=\"T_529a8_level0_row4\" class=\"row_heading level0 row4\" >4</th>\n",
       "      <td id=\"T_529a8_row4_col0\" class=\"data row4 col0\" >0.3895</td>\n",
       "      <td id=\"T_529a8_row4_col1\" class=\"data row4 col1\" >0.2412</td>\n",
       "      <td id=\"T_529a8_row4_col2\" class=\"data row4 col2\" >0.4911</td>\n",
       "      <td id=\"T_529a8_row4_col3\" class=\"data row4 col3\" >0.9924</td>\n",
       "      <td id=\"T_529a8_row4_col4\" class=\"data row4 col4\" >0.0372</td>\n",
       "      <td id=\"T_529a8_row4_col5\" class=\"data row4 col5\" >0.0329</td>\n",
       "    </tr>\n",
       "    <tr>\n",
       "      <th id=\"T_529a8_level0_row5\" class=\"row_heading level0 row5\" >5</th>\n",
       "      <td id=\"T_529a8_row5_col0\" class=\"data row5 col0\" >0.3710</td>\n",
       "      <td id=\"T_529a8_row5_col1\" class=\"data row5 col1\" >0.2444</td>\n",
       "      <td id=\"T_529a8_row5_col2\" class=\"data row5 col2\" >0.4943</td>\n",
       "      <td id=\"T_529a8_row5_col3\" class=\"data row5 col3\" >0.9804</td>\n",
       "      <td id=\"T_529a8_row5_col4\" class=\"data row5 col4\" >0.0431</td>\n",
       "      <td id=\"T_529a8_row5_col5\" class=\"data row5 col5\" >0.0300</td>\n",
       "    </tr>\n",
       "    <tr>\n",
       "      <th id=\"T_529a8_level0_row6\" class=\"row_heading level0 row6\" >6</th>\n",
       "      <td id=\"T_529a8_row6_col0\" class=\"data row6 col0\" >0.5290</td>\n",
       "      <td id=\"T_529a8_row6_col1\" class=\"data row6 col1\" >0.5355</td>\n",
       "      <td id=\"T_529a8_row6_col2\" class=\"data row6 col2\" >0.7318</td>\n",
       "      <td id=\"T_529a8_row6_col3\" class=\"data row6 col3\" >0.9631</td>\n",
       "      <td id=\"T_529a8_row6_col4\" class=\"data row6 col4\" >0.0633</td>\n",
       "      <td id=\"T_529a8_row6_col5\" class=\"data row6 col5\" >0.0446</td>\n",
       "    </tr>\n",
       "    <tr>\n",
       "      <th id=\"T_529a8_level0_row7\" class=\"row_heading level0 row7\" >7</th>\n",
       "      <td id=\"T_529a8_row7_col0\" class=\"data row7 col0\" >1.2940</td>\n",
       "      <td id=\"T_529a8_row7_col1\" class=\"data row7 col1\" >4.3746</td>\n",
       "      <td id=\"T_529a8_row7_col2\" class=\"data row7 col2\" >2.0915</td>\n",
       "      <td id=\"T_529a8_row7_col3\" class=\"data row7 col3\" >0.9254</td>\n",
       "      <td id=\"T_529a8_row7_col4\" class=\"data row7 col4\" >0.3928</td>\n",
       "      <td id=\"T_529a8_row7_col5\" class=\"data row7 col5\" >0.4549</td>\n",
       "    </tr>\n",
       "    <tr>\n",
       "      <th id=\"T_529a8_level0_row8\" class=\"row_heading level0 row8\" >8</th>\n",
       "      <td id=\"T_529a8_row8_col0\" class=\"data row8 col0\" >0.3725</td>\n",
       "      <td id=\"T_529a8_row8_col1\" class=\"data row8 col1\" >0.1926</td>\n",
       "      <td id=\"T_529a8_row8_col2\" class=\"data row8 col2\" >0.4389</td>\n",
       "      <td id=\"T_529a8_row8_col3\" class=\"data row8 col3\" >0.9915</td>\n",
       "      <td id=\"T_529a8_row8_col4\" class=\"data row8 col4\" >0.0340</td>\n",
       "      <td id=\"T_529a8_row8_col5\" class=\"data row8 col5\" >0.0319</td>\n",
       "    </tr>\n",
       "    <tr>\n",
       "      <th id=\"T_529a8_level0_row9\" class=\"row_heading level0 row9\" >9</th>\n",
       "      <td id=\"T_529a8_row9_col0\" class=\"data row9 col0\" >0.3520</td>\n",
       "      <td id=\"T_529a8_row9_col1\" class=\"data row9 col1\" >0.2467</td>\n",
       "      <td id=\"T_529a8_row9_col2\" class=\"data row9 col2\" >0.4967</td>\n",
       "      <td id=\"T_529a8_row9_col3\" class=\"data row9 col3\" >0.9893</td>\n",
       "      <td id=\"T_529a8_row9_col4\" class=\"data row9 col4\" >0.0625</td>\n",
       "      <td id=\"T_529a8_row9_col5\" class=\"data row9 col5\" >0.0454</td>\n",
       "    </tr>\n",
       "    <tr>\n",
       "      <th id=\"T_529a8_level0_row10\" class=\"row_heading level0 row10\" >Mean</th>\n",
       "      <td id=\"T_529a8_row10_col0\" class=\"data row10 col0\" >0.4423</td>\n",
       "      <td id=\"T_529a8_row10_col1\" class=\"data row10 col1\" >0.6372</td>\n",
       "      <td id=\"T_529a8_row10_col2\" class=\"data row10 col2\" >0.6136</td>\n",
       "      <td id=\"T_529a8_row10_col3\" class=\"data row10 col3\" >0.9820</td>\n",
       "      <td id=\"T_529a8_row10_col4\" class=\"data row10 col4\" >0.0727</td>\n",
       "      <td id=\"T_529a8_row10_col5\" class=\"data row10 col5\" >0.0718</td>\n",
       "    </tr>\n",
       "    <tr>\n",
       "      <th id=\"T_529a8_level0_row11\" class=\"row_heading level0 row11\" >Std</th>\n",
       "      <td id=\"T_529a8_row11_col0\" class=\"data row11 col0\" >0.2984</td>\n",
       "      <td id=\"T_529a8_row11_col1\" class=\"data row11 col1\" >1.2522</td>\n",
       "      <td id=\"T_529a8_row11_col2\" class=\"data row11 col2\" >0.5106</td>\n",
       "      <td id=\"T_529a8_row11_col3\" class=\"data row11 col3\" >0.0212</td>\n",
       "      <td id=\"T_529a8_row11_col4\" class=\"data row11 col4\" >0.1079</td>\n",
       "      <td id=\"T_529a8_row11_col5\" class=\"data row11 col5\" >0.1281</td>\n",
       "    </tr>\n",
       "  </tbody>\n",
       "</table>\n"
      ],
      "text/plain": [
       "<pandas.io.formats.style.Styler at 0x2bca2d52550>"
      ]
     },
     "metadata": {},
     "output_type": "display_data"
    },
    {
     "data": {
      "application/vnd.jupyter.widget-view+json": {
       "model_id": "",
       "version_major": 2,
       "version_minor": 0
      },
      "text/plain": [
       "Processing:   0%|          | 0/4 [00:00<?, ?it/s]"
      ]
     },
     "metadata": {},
     "output_type": "display_data"
    }
   ],
   "source": [
    "best_model = create_model('et')"
   ]
  },
  {
   "cell_type": "code",
   "execution_count": 38,
   "id": "cfdf5bdc",
   "metadata": {},
   "outputs": [],
   "source": [
    "#split test data"
   ]
  },
  {
   "cell_type": "code",
   "execution_count": 39,
   "id": "0a30dd70",
   "metadata": {},
   "outputs": [],
   "source": [
    "#see"
   ]
  },
  {
   "cell_type": "code",
   "execution_count": 40,
   "id": "2eaabe08",
   "metadata": {},
   "outputs": [
    {
     "data": {
      "text/html": [
       "<div>\n",
       "<style scoped>\n",
       "    .dataframe tbody tr th:only-of-type {\n",
       "        vertical-align: middle;\n",
       "    }\n",
       "\n",
       "    .dataframe tbody tr th {\n",
       "        vertical-align: top;\n",
       "    }\n",
       "\n",
       "    .dataframe thead th {\n",
       "        text-align: right;\n",
       "    }\n",
       "</style>\n",
       "<table border=\"1\" class=\"dataframe\">\n",
       "  <thead>\n",
       "    <tr style=\"text-align: right;\">\n",
       "      <th></th>\n",
       "      <th>TV</th>\n",
       "      <th>Radio</th>\n",
       "      <th>Newspaper</th>\n",
       "      <th>Sales</th>\n",
       "    </tr>\n",
       "  </thead>\n",
       "  <tbody>\n",
       "    <tr>\n",
       "      <th>95</th>\n",
       "      <td>163.3</td>\n",
       "      <td>31.6</td>\n",
       "      <td>52.9</td>\n",
       "      <td>16.9</td>\n",
       "    </tr>\n",
       "    <tr>\n",
       "      <th>15</th>\n",
       "      <td>195.4</td>\n",
       "      <td>47.7</td>\n",
       "      <td>52.9</td>\n",
       "      <td>22.4</td>\n",
       "    </tr>\n",
       "    <tr>\n",
       "      <th>30</th>\n",
       "      <td>292.9</td>\n",
       "      <td>28.3</td>\n",
       "      <td>43.2</td>\n",
       "      <td>21.4</td>\n",
       "    </tr>\n",
       "    <tr>\n",
       "      <th>158</th>\n",
       "      <td>11.7</td>\n",
       "      <td>36.9</td>\n",
       "      <td>45.2</td>\n",
       "      <td>7.3</td>\n",
       "    </tr>\n",
       "    <tr>\n",
       "      <th>128</th>\n",
       "      <td>220.3</td>\n",
       "      <td>49.0</td>\n",
       "      <td>3.2</td>\n",
       "      <td>24.7</td>\n",
       "    </tr>\n",
       "  </tbody>\n",
       "</table>\n",
       "</div>"
      ],
      "text/plain": [
       "        TV  Radio  Newspaper  Sales\n",
       "95   163.3   31.6       52.9   16.9\n",
       "15   195.4   47.7       52.9   22.4\n",
       "30   292.9   28.3       43.2   21.4\n",
       "158   11.7   36.9       45.2    7.3\n",
       "128  220.3   49.0        3.2   24.7"
      ]
     },
     "execution_count": 40,
     "metadata": {},
     "output_type": "execute_result"
    }
   ],
   "source": [
    "test_df.head()"
   ]
  },
  {
   "cell_type": "code",
   "execution_count": 41,
   "id": "6b3354b4",
   "metadata": {},
   "outputs": [],
   "source": [
    "#//"
   ]
  },
  {
   "cell_type": "code",
   "execution_count": 55,
   "id": "86331ed0",
   "metadata": {},
   "outputs": [],
   "source": [
    "x_train_test = train_df.drop(\"Sales\", axis=1).reset_index(drop=True)\n",
    "y_train_test = train_df[[\"Sales\"]].reset_index(drop=True)"
   ]
  },
  {
   "cell_type": "code",
   "execution_count": 56,
   "id": "3ad35938",
   "metadata": {},
   "outputs": [],
   "source": [
    "#check"
   ]
  },
  {
   "cell_type": "code",
   "execution_count": 57,
   "id": "6b538564",
   "metadata": {},
   "outputs": [
    {
     "data": {
      "text/html": [
       "<div>\n",
       "<style scoped>\n",
       "    .dataframe tbody tr th:only-of-type {\n",
       "        vertical-align: middle;\n",
       "    }\n",
       "\n",
       "    .dataframe tbody tr th {\n",
       "        vertical-align: top;\n",
       "    }\n",
       "\n",
       "    .dataframe thead th {\n",
       "        text-align: right;\n",
       "    }\n",
       "</style>\n",
       "<table border=\"1\" class=\"dataframe\">\n",
       "  <thead>\n",
       "    <tr style=\"text-align: right;\">\n",
       "      <th></th>\n",
       "      <th>TV</th>\n",
       "      <th>Radio</th>\n",
       "      <th>Newspaper</th>\n",
       "    </tr>\n",
       "  </thead>\n",
       "  <tbody>\n",
       "    <tr>\n",
       "      <th>0</th>\n",
       "      <td>116.0</td>\n",
       "      <td>7.7</td>\n",
       "      <td>23.1</td>\n",
       "    </tr>\n",
       "    <tr>\n",
       "      <th>1</th>\n",
       "      <td>177.0</td>\n",
       "      <td>9.3</td>\n",
       "      <td>6.4</td>\n",
       "    </tr>\n",
       "    <tr>\n",
       "      <th>2</th>\n",
       "      <td>43.1</td>\n",
       "      <td>26.7</td>\n",
       "      <td>35.1</td>\n",
       "    </tr>\n",
       "    <tr>\n",
       "      <th>3</th>\n",
       "      <td>62.3</td>\n",
       "      <td>12.6</td>\n",
       "      <td>18.3</td>\n",
       "    </tr>\n",
       "    <tr>\n",
       "      <th>4</th>\n",
       "      <td>224.0</td>\n",
       "      <td>2.4</td>\n",
       "      <td>15.6</td>\n",
       "    </tr>\n",
       "  </tbody>\n",
       "</table>\n",
       "</div>"
      ],
      "text/plain": [
       "      TV  Radio  Newspaper\n",
       "0  116.0    7.7       23.1\n",
       "1  177.0    9.3        6.4\n",
       "2   43.1   26.7       35.1\n",
       "3   62.3   12.6       18.3\n",
       "4  224.0    2.4       15.6"
      ]
     },
     "execution_count": 57,
     "metadata": {},
     "output_type": "execute_result"
    }
   ],
   "source": [
    "x_train_test.head()"
   ]
  },
  {
   "cell_type": "code",
   "execution_count": 58,
   "id": "e3ac4c99",
   "metadata": {},
   "outputs": [],
   "source": [
    "#//"
   ]
  },
  {
   "cell_type": "code",
   "execution_count": 59,
   "id": "aef763e2",
   "metadata": {},
   "outputs": [
    {
     "data": {
      "text/html": [
       "<div>\n",
       "<style scoped>\n",
       "    .dataframe tbody tr th:only-of-type {\n",
       "        vertical-align: middle;\n",
       "    }\n",
       "\n",
       "    .dataframe tbody tr th {\n",
       "        vertical-align: top;\n",
       "    }\n",
       "\n",
       "    .dataframe thead th {\n",
       "        text-align: right;\n",
       "    }\n",
       "</style>\n",
       "<table border=\"1\" class=\"dataframe\">\n",
       "  <thead>\n",
       "    <tr style=\"text-align: right;\">\n",
       "      <th></th>\n",
       "      <th>Sales</th>\n",
       "    </tr>\n",
       "  </thead>\n",
       "  <tbody>\n",
       "    <tr>\n",
       "      <th>0</th>\n",
       "      <td>11.0</td>\n",
       "    </tr>\n",
       "    <tr>\n",
       "      <th>1</th>\n",
       "      <td>12.8</td>\n",
       "    </tr>\n",
       "    <tr>\n",
       "      <th>2</th>\n",
       "      <td>10.1</td>\n",
       "    </tr>\n",
       "    <tr>\n",
       "      <th>3</th>\n",
       "      <td>9.7</td>\n",
       "    </tr>\n",
       "    <tr>\n",
       "      <th>4</th>\n",
       "      <td>11.6</td>\n",
       "    </tr>\n",
       "  </tbody>\n",
       "</table>\n",
       "</div>"
      ],
      "text/plain": [
       "   Sales\n",
       "0   11.0\n",
       "1   12.8\n",
       "2   10.1\n",
       "3    9.7\n",
       "4   11.6"
      ]
     },
     "execution_count": 59,
     "metadata": {},
     "output_type": "execute_result"
    }
   ],
   "source": [
    "y_train_test.head()"
   ]
  },
  {
   "cell_type": "code",
   "execution_count": 54,
   "id": "0038b685",
   "metadata": {},
   "outputs": [],
   "source": [
    "#fit best model"
   ]
  },
  {
   "cell_type": "code",
   "execution_count": 60,
   "id": "7a09739c",
   "metadata": {},
   "outputs": [
    {
     "data": {
      "text/html": [
       "<style>#sk-container-id-1 {color: black;background-color: white;}#sk-container-id-1 pre{padding: 0;}#sk-container-id-1 div.sk-toggleable {background-color: white;}#sk-container-id-1 label.sk-toggleable__label {cursor: pointer;display: block;width: 100%;margin-bottom: 0;padding: 0.3em;box-sizing: border-box;text-align: center;}#sk-container-id-1 label.sk-toggleable__label-arrow:before {content: \"▸\";float: left;margin-right: 0.25em;color: #696969;}#sk-container-id-1 label.sk-toggleable__label-arrow:hover:before {color: black;}#sk-container-id-1 div.sk-estimator:hover label.sk-toggleable__label-arrow:before {color: black;}#sk-container-id-1 div.sk-toggleable__content {max-height: 0;max-width: 0;overflow: hidden;text-align: left;background-color: #f0f8ff;}#sk-container-id-1 div.sk-toggleable__content pre {margin: 0.2em;color: black;border-radius: 0.25em;background-color: #f0f8ff;}#sk-container-id-1 input.sk-toggleable__control:checked~div.sk-toggleable__content {max-height: 200px;max-width: 100%;overflow: auto;}#sk-container-id-1 input.sk-toggleable__control:checked~label.sk-toggleable__label-arrow:before {content: \"▾\";}#sk-container-id-1 div.sk-estimator input.sk-toggleable__control:checked~label.sk-toggleable__label {background-color: #d4ebff;}#sk-container-id-1 div.sk-label input.sk-toggleable__control:checked~label.sk-toggleable__label {background-color: #d4ebff;}#sk-container-id-1 input.sk-hidden--visually {border: 0;clip: rect(1px 1px 1px 1px);clip: rect(1px, 1px, 1px, 1px);height: 1px;margin: -1px;overflow: hidden;padding: 0;position: absolute;width: 1px;}#sk-container-id-1 div.sk-estimator {font-family: monospace;background-color: #f0f8ff;border: 1px dotted black;border-radius: 0.25em;box-sizing: border-box;margin-bottom: 0.5em;}#sk-container-id-1 div.sk-estimator:hover {background-color: #d4ebff;}#sk-container-id-1 div.sk-parallel-item::after {content: \"\";width: 100%;border-bottom: 1px solid gray;flex-grow: 1;}#sk-container-id-1 div.sk-label:hover label.sk-toggleable__label {background-color: #d4ebff;}#sk-container-id-1 div.sk-serial::before {content: \"\";position: absolute;border-left: 1px solid gray;box-sizing: border-box;top: 0;bottom: 0;left: 50%;z-index: 0;}#sk-container-id-1 div.sk-serial {display: flex;flex-direction: column;align-items: center;background-color: white;padding-right: 0.2em;padding-left: 0.2em;position: relative;}#sk-container-id-1 div.sk-item {position: relative;z-index: 1;}#sk-container-id-1 div.sk-parallel {display: flex;align-items: stretch;justify-content: center;background-color: white;position: relative;}#sk-container-id-1 div.sk-item::before, #sk-container-id-1 div.sk-parallel-item::before {content: \"\";position: absolute;border-left: 1px solid gray;box-sizing: border-box;top: 0;bottom: 0;left: 50%;z-index: -1;}#sk-container-id-1 div.sk-parallel-item {display: flex;flex-direction: column;z-index: 1;position: relative;background-color: white;}#sk-container-id-1 div.sk-parallel-item:first-child::after {align-self: flex-end;width: 50%;}#sk-container-id-1 div.sk-parallel-item:last-child::after {align-self: flex-start;width: 50%;}#sk-container-id-1 div.sk-parallel-item:only-child::after {width: 0;}#sk-container-id-1 div.sk-dashed-wrapped {border: 1px dashed gray;margin: 0 0.4em 0.5em 0.4em;box-sizing: border-box;padding-bottom: 0.4em;background-color: white;}#sk-container-id-1 div.sk-label label {font-family: monospace;font-weight: bold;display: inline-block;line-height: 1.2em;}#sk-container-id-1 div.sk-label-container {text-align: center;}#sk-container-id-1 div.sk-container {/* jupyter's `normalize.less` sets `[hidden] { display: none; }` but bootstrap.min.css set `[hidden] { display: none !important; }` so we also need the `!important` here to be able to override the default hidden behavior on the sphinx rendered scikit-learn.org. See: https://github.com/scikit-learn/scikit-learn/issues/21755 */display: inline-block !important;position: relative;}#sk-container-id-1 div.sk-text-repr-fallback {display: none;}</style><div id=\"sk-container-id-1\" class=\"sk-top-container\"><div class=\"sk-text-repr-fallback\"><pre>ExtraTreesRegressor(n_jobs=-1, random_state=2342)</pre><b>In a Jupyter environment, please rerun this cell to show the HTML representation or trust the notebook. <br />On GitHub, the HTML representation is unable to render, please try loading this page with nbviewer.org.</b></div><div class=\"sk-container\" hidden><div class=\"sk-item\"><div class=\"sk-estimator sk-toggleable\"><input class=\"sk-toggleable__control sk-hidden--visually\" id=\"sk-estimator-id-1\" type=\"checkbox\" checked><label for=\"sk-estimator-id-1\" class=\"sk-toggleable__label sk-toggleable__label-arrow\">ExtraTreesRegressor</label><div class=\"sk-toggleable__content\"><pre>ExtraTreesRegressor(n_jobs=-1, random_state=2342)</pre></div></div></div></div></div>"
      ],
      "text/plain": [
       "ExtraTreesRegressor(n_jobs=-1, random_state=2342)"
      ]
     },
     "execution_count": 60,
     "metadata": {},
     "output_type": "execute_result"
    }
   ],
   "source": [
    "best_model.fit(x_train_test,y_train_test)"
   ]
  },
  {
   "cell_type": "code",
   "execution_count": 61,
   "id": "968f3f73",
   "metadata": {},
   "outputs": [],
   "source": [
    "#prepare test data"
   ]
  },
  {
   "cell_type": "code",
   "execution_count": 62,
   "id": "7c3d5d3d",
   "metadata": {},
   "outputs": [],
   "source": [
    "x_test = test_df.drop(\"Sales\", axis=1).reset_index(drop=True)\n",
    "y_test = test_df[[\"Sales\"]].reset_index(drop=True)"
   ]
  },
  {
   "cell_type": "code",
   "execution_count": 63,
   "id": "e9221d17",
   "metadata": {},
   "outputs": [],
   "source": [
    "#predictions"
   ]
  },
  {
   "cell_type": "code",
   "execution_count": 67,
   "id": "38aa0948",
   "metadata": {},
   "outputs": [],
   "source": [
    "predictions=best_model.predict(x_test)"
   ]
  },
  {
   "cell_type": "code",
   "execution_count": 68,
   "id": "0171fe9b",
   "metadata": {},
   "outputs": [],
   "source": [
    "#model sucsescion "
   ]
  },
  {
   "cell_type": "code",
   "execution_count": null,
   "id": "9d835ed6",
   "metadata": {},
   "outputs": [],
   "source": [
    "#R^2"
   ]
  },
  {
   "cell_type": "code",
   "execution_count": 69,
   "id": "8a62c736",
   "metadata": {},
   "outputs": [
    {
     "data": {
      "text/plain": [
       "0.9910452157018846"
      ]
     },
     "execution_count": 69,
     "metadata": {},
     "output_type": "execute_result"
    }
   ],
   "source": [
    "r2_score(predictions,y_test)"
   ]
  },
  {
   "cell_type": "code",
   "execution_count": null,
   "id": "82a24b48",
   "metadata": {},
   "outputs": [],
   "source": [
    "#MSE"
   ]
  },
  {
   "cell_type": "code",
   "execution_count": 70,
   "id": "6e332dff",
   "metadata": {},
   "outputs": [
    {
     "data": {
      "text/plain": [
       "0.5294239086025451"
      ]
     },
     "execution_count": 70,
     "metadata": {},
     "output_type": "execute_result"
    }
   ],
   "source": [
    "mean_squared_error(predictions,y_test)**.5"
   ]
  },
  {
   "cell_type": "code",
   "execution_count": 76,
   "id": "9fd9c135",
   "metadata": {},
   "outputs": [],
   "source": [
    "# Access the feature importances"
   ]
  },
  {
   "cell_type": "code",
   "execution_count": 77,
   "id": "b2d30286",
   "metadata": {},
   "outputs": [],
   "source": [
    "importances = best_model.feature_importances_"
   ]
  },
  {
   "cell_type": "code",
   "execution_count": 78,
   "id": "df4a27d3",
   "metadata": {},
   "outputs": [],
   "source": [
    "#print formula"
   ]
  },
  {
   "cell_type": "code",
   "execution_count": 79,
   "id": "6ec4456e",
   "metadata": {},
   "outputs": [
    {
     "name": "stdout",
     "output_type": "stream",
     "text": [
      "TV: 0.6028 + Radio: 0.3867 + Newspaper: 0.0105\n"
     ]
    }
   ],
   "source": [
    "print(\"TV: {} + Radio: {} + Newspaper: {}\".format(importances[0].round(4), importances[1].round(4), importances[2].round(4)))"
   ]
  },
  {
   "cell_type": "markdown",
   "id": "3bfb1726",
   "metadata": {},
   "source": [
    "we see most important advert tool is television after than radio "
   ]
  },
  {
   "cell_type": "code",
   "execution_count": 80,
   "id": "3b57c691",
   "metadata": {},
   "outputs": [],
   "source": [
    "#data virsulazation"
   ]
  },
  {
   "cell_type": "code",
   "execution_count": 83,
   "id": "acb33839",
   "metadata": {},
   "outputs": [
    {
     "data": {
      "image/png": "[encoded data removed]",
      "text/plain": [
       "<Figure size 800x550 with 1 Axes>"
      ]
     },
     "metadata": {},
     "output_type": "display_data"
    }
   ],
   "source": [
    "plt.plot(y_test, label='Real Sales Priceses')\n",
    "plt.plot(predictions, label='Predictions Sales Prices')\n",
    "plt.xlabel('Sample Number')\n",
    "plt.ylabel('Sales')\n",
    "plt.legend()\n",
    "plt.show();"
   ]
  },
  {
   "cell_type": "code",
   "execution_count": 84,
   "id": "0c24fabc",
   "metadata": {},
   "outputs": [],
   "source": [
    "#saveing model"
   ]
  },
  {
   "cell_type": "code",
   "execution_count": 86,
   "id": "f97da072",
   "metadata": {},
   "outputs": [],
   "source": [
    "with open('model.pkl', 'wb') as file:\n",
    "    pickle.dump(best_model, file)"
   ]
  },
  {
   "cell_type": "code",
   "execution_count": 87,
   "id": "d4cea5fb",
   "metadata": {},
   "outputs": [],
   "source": [
    "#sources"
   ]
  },
  {
   "cell_type": "markdown",
   "id": "cc4d4069",
   "metadata": {},
   "source": [
    "-Zafer Acar Notes\n",
    "-[https://poe.com/chat/2rhcfi4djoj4u359vfr]"
   ]
  }
 ],
 "metadata": {
  "kernelspec": {
   "display_name": "Python 3 (ipykernel)",
   "language": "python",
   "name": "python3"
  },
  "language_info": {
   "codemirror_mode": {
    "name": "ipython",
    "version": 3
   },
   "file_extension": ".py",
   "mimetype": "text/x-python",
   "name": "python",
   "nbconvert_exporter": "python",
   "pygments_lexer": "ipython3",
   "version": "3.9.13"
  }
 },
 "nbformat": 4,
 "nbformat_minor": 5
}
